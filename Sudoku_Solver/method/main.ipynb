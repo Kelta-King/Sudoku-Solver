{
 "cells": [
  {
   "cell_type": "code",
   "execution_count": 47,
   "id": "0e54e9b7",
   "metadata": {},
   "outputs": [],
   "source": [
    "import cv2\n",
    "import argparse\n",
    "import numpy as np\n",
    "from PIL import ImageFont, ImageDraw, Image\n",
    "import operator\n",
    "import copy\n",
    "import numpy as np\n",
    "from keras.preprocessing import image\n",
    "from skimage.segmentation import clear_border\n",
    "from keras.models import load_model"
   ]
  },
  {
   "cell_type": "code",
   "execution_count": 21,
   "id": "bb148813",
   "metadata": {},
   "outputs": [],
   "source": [
    "#Show Image\n",
    "def show_image(img,title):\n",
    "    cv2.namedWindow(title, cv2.WINDOW_NORMAL)\n",
    "    cv2.resizeWindow(title, 450,450)\n",
    "    cv2.imshow(title, img)\n",
    "    cv2.waitKey(500)\n",
    "    cv2.destroyAllWindows()"
   ]
  },
  {
   "cell_type": "code",
   "execution_count": 3,
   "id": "6ae6ede9",
   "metadata": {},
   "outputs": [],
   "source": [
    "#Image filter processing\n",
    "def pre_process_image(img, skip_dilate=False):\n",
    "    proc = cv2.GaussianBlur(img.copy(), (9, 9),0)\n",
    "    proc = cv2.adaptiveThreshold(proc, 255, cv2.ADAPTIVE_THRESH_GAUSSIAN_C, cv2.THRESH_BINARY, 11, 5)\n",
    "    proc = cv2.bitwise_not(proc, proc)\n",
    "    if not skip_dilate:\n",
    "      kernel = np.array([[0., 1., 0.], [1., 1., 1.], [0., 1., 0.]],np.uint8)\n",
    "      proc = cv2.dilate(proc, kernel)\n",
    "    return proc"
   ]
  },
  {
   "cell_type": "code",
   "execution_count": 4,
   "id": "9a6b40f3",
   "metadata": {},
   "outputs": [],
   "source": [
    "#Find image corners\n",
    "def findCorners(img):\n",
    "    contours, hierarchy = cv2.findContours(processed, cv2.RETR_LIST, cv2.CHAIN_APPROX_SIMPLE)\n",
    "    contours = sorted(contours, key=cv2.contourArea, reverse=True)\n",
    "    polygon = contours[0]\n",
    "\n",
    "    bottom_right, _ = max(enumerate([pt[0][0] + pt[0][1] for pt in polygon]), key=operator.itemgetter(1))\n",
    "    top_left, _ = min(enumerate([pt[0][0] + pt[0][1] for pt in polygon]), key=operator.itemgetter(1))\n",
    "    bottom_left, _ = min(enumerate([pt[0][0] - pt[0][1] for pt in polygon]), key=operator.itemgetter(1))\n",
    "\n",
    "    top_right, _ = max(enumerate([pt[0][0] - pt[0][1] for pt in polygon]), key=operator.itemgetter(1))\n",
    "    return [polygon[top_left][0], polygon[top_right][0], polygon[bottom_right][0], polygon[bottom_left][0]]"
   ]
  },
  {
   "cell_type": "code",
   "execution_count": 5,
   "id": "b6b11f3a",
   "metadata": {},
   "outputs": [],
   "source": [
    "#Function used to specify point\n",
    "def display_points(in_img, points, radius=25, colour=(0, 0, 255)):\n",
    "    img = in_img.copy()\n",
    "    if len(colour) == 3:\n",
    "        if len(img.shape) == 2:\n",
    "            img = cv2.cvtColor(img, cv2.COLOR_GRAY2BGR)\n",
    "        elif img.shape[2] == 1:\n",
    "            img = cv2.cvtColor(img, cv2.COLOR_GRAY2BGR)\n",
    "    for point in points:\n",
    "        cv2.circle(img, tuple(int(x) for x in point), radius, colour, -1)\n",
    "    show_image(img,\"display_points\")\n",
    "    return img"
   ]
  },
  {
   "cell_type": "code",
   "execution_count": 6,
   "id": "3cee8b37",
   "metadata": {},
   "outputs": [],
   "source": [
    "def distance_between(p1, p2):\n",
    "    a = p2[0] - p1[0]\n",
    "    b = p2[1] - p1[1]\n",
    "    return np.sqrt((a ** 2) + (b ** 2))\n"
   ]
  },
  {
   "cell_type": "code",
   "execution_count": 7,
   "id": "d639dbdd",
   "metadata": {},
   "outputs": [],
   "source": [
    "def display_rects(in_img, rects, colour=255):\n",
    "    img = in_img.copy()\n",
    "    for rect in rects:\n",
    "        cv2.rectangle(img, tuple(int(x) for x in rect[0]), tuple(int(x) for x in rect[1]), colour)\n",
    "    show_image(img,\"display_rects\")\n",
    "    return img\n"
   ]
  },
  {
   "cell_type": "code",
   "execution_count": 8,
   "id": "1b9decf6",
   "metadata": {},
   "outputs": [],
   "source": [
    "def crop_and_warp(img, crop_rect):\n",
    "    top_left, top_right, bottom_right, bottom_left = crop_rect[0], crop_rect[1], crop_rect[2], crop_rect[3]\n",
    "    src = np.array([top_left, top_right, bottom_right, bottom_left], dtype='float32')\n",
    "    side = max([\n",
    "        distance_between(bottom_right, top_right),\n",
    "        distance_between(top_left, bottom_left),\n",
    "        distance_between(bottom_right, bottom_left),\n",
    "        distance_between(top_left, top_right)\n",
    "    ])\n",
    "    dst = np.array([[0, 0], [side - 1, 0], [side - 1, side - 1], [0, side - 1]], dtype='float32')\n",
    "    m = cv2.getPerspectiveTransform(src, dst)\n",
    "    return cv2.warpPerspective(img, m, (int(side), int(side)))"
   ]
  },
  {
   "cell_type": "code",
   "execution_count": 9,
   "id": "fa65f9b6",
   "metadata": {},
   "outputs": [],
   "source": [
    "def infer_grid(img):\n",
    "    squares = []\n",
    "    side = img.shape[:1]\n",
    "    side = side[0] / 9\n",
    "    for i in range(9):\n",
    "        for j in range(9):\n",
    "            p1 = (i * side, j * side)\n",
    "            p2 = ((i + 1) * side, (j + 1) * side)\n",
    "            squares.append((p1, p2))\n",
    "    return squares"
   ]
  },
  {
   "cell_type": "code",
   "execution_count": 65,
   "id": "50768217",
   "metadata": {},
   "outputs": [],
   "source": [
    "def getEveryDigits(img,squares):\n",
    "    labels = []\n",
    "    centers = []\n",
    "    model = load_model('mnist_keras_cnn_model.h5')\n",
    "    img2=img.copy()\n",
    "    show_image(img2,\"TEST\")\n",
    "    height, width = img.shape[:2]\n",
    "    img2 = Image.fromarray(img2)\n",
    "    for i in range(81):\n",
    "        x1=squares[i][0][0]\n",
    "        x2=squares[i][1][0]\n",
    "        y1=squares[i][0][1]\n",
    "        y2=squares[i][1][1]\n",
    "        window=img[int(x1):int(x2), int(y1):int(y2)]\n",
    "\n",
    "        digit = cv2.resize(window,(28,28))\n",
    "        digit = clear_border(digit)\n",
    "\n",
    "        numPixels = cv2.countNonZero(digit)\n",
    "        if numPixels<70:\n",
    "            label=0\n",
    "        else:\n",
    "            predict_2 = model.predict([digit.reshape(1,28,28,1)])\n",
    "            label2=np.argmax(predict_2,axis=1)\n",
    "            label=label2[0]\n",
    "        labels.append(label)\n",
    "    return matrix_convert(labels)"
   ]
  },
  {
   "cell_type": "code",
   "execution_count": 11,
   "id": "9dd6a718",
   "metadata": {},
   "outputs": [],
   "source": [
    "def matrix_convert(label):\n",
    "  a=0\n",
    "  matrix=[]\n",
    "  for i in range(0,9):\n",
    "        matrix.append(label[a:a+9])\n",
    "        a=a+9\n",
    "  print(\"original Sudoku\")\n",
    "  for i in range(0,9):\n",
    "        print(matrix[i])\n",
    "  print(\"---------------------------------------\")\n",
    "  return matrix"
   ]
  },
  {
   "cell_type": "code",
   "execution_count": 12,
   "id": "a26a1101",
   "metadata": {},
   "outputs": [],
   "source": [
    "def checkGrid(grid):\n",
    "  for row in range(0,9):\n",
    "      for col in range(0,9):\n",
    "        if grid[row][col]==0:\n",
    "          return False\n",
    "  return True"
   ]
  },
  {
   "cell_type": "code",
   "execution_count": 13,
   "id": "a31fc834",
   "metadata": {},
   "outputs": [],
   "source": [
    "#Backtracking algorithm\n",
    "def solveGrid(grid):\n",
    "\n",
    "  for i in range(0,81):\n",
    "    row=int(i/9)\n",
    "    col=int(i%9)\n",
    "    if grid[int(row)][int(col)]==0:\n",
    "      for value in range (1,10):\n",
    "        if not(value in grid[row]):\n",
    "          if not value in (grid[0][col],grid[1][col],grid[2][col],grid[3][col],grid[4][col],grid[5][col],grid[6][col],grid[7][col],grid[8][col]):\n",
    "            square=[]\n",
    "            if row<3:\n",
    "              if col<3:\n",
    "                square=[grid[i][0:3] for i in range(0,3)]\n",
    "              elif col<6:\n",
    "                square=[grid[i][3:6] for i in range(0,3)]\n",
    "              else:\n",
    "                square=[grid[i][6:9] for i in range(0,3)]\n",
    "            elif row<6:\n",
    "              if col<3:\n",
    "                square=[grid[i][0:3] for i in range(3,6)]\n",
    "              elif col<6:\n",
    "                square=[grid[i][3:6] for i in range(3,6)]\n",
    "              else:\n",
    "                square=[grid[i][6:9] for i in range(3,6)]\n",
    "            else:\n",
    "              if col<3:\n",
    "                square=[grid[i][0:3] for i in range(6,9)]\n",
    "              elif col<6:\n",
    "                square=[grid[i][3:6] for i in range(6,9)]\n",
    "              else:\n",
    "                square=[grid[i][6:9] for i in range(6,9)]\n",
    "            if not value in (square[0] + square[1] + square[2]):\n",
    "              grid[row][col]=value\n",
    "              if checkGrid(grid):\n",
    "                print(\"Sudoku Result\")\n",
    "                for i in range(0,9):\n",
    "                      print(grid[i])\n",
    "                return grid\n",
    "              else:\n",
    "                  if solveGrid(grid):\n",
    "                    return grid\n",
    "      break\n",
    "  grid[row][col]=0"
   ]
  },
  {
   "cell_type": "code",
   "execution_count": null,
   "id": "b5c3c7fa",
   "metadata": {},
   "outputs": [],
   "source": []
  },
  {
   "cell_type": "code",
   "execution_count": 68,
   "id": "d9502497",
   "metadata": {},
   "outputs": [],
   "source": [
    "def writeImg(solved,old,img,squares):\n",
    "  font                   = cv2.FONT_HERSHEY_SIMPLEX\n",
    "  bottomLeftCornerOfText = (10,500)\n",
    "  fontScale              = 2\n",
    "  fontColor              = (255,255,0)\n",
    "  lineType               = 2\n",
    "  img2 = Image.fromarray(img)\n",
    "  for i in range(81):\n",
    "    x1=squares[i][0][0]\n",
    "    x2=squares[i][1][0]\n",
    "    y1=squares[i][0][1]\n",
    "    y2=squares[i][1][1]\n",
    "    window=img[int(y1):int(y2),int(x1):int(x2)]\n",
    "    if old[i//9][i%9]==0:\n",
    "        k=i//9\n",
    "        k=k+1\n",
    "        tp=(int(y1),int((k*84)))\n",
    "        cv2.putText(img,str(solved[i//9][i%9]),tp,font,fontScale,fontColor,lineType)\n",
    "        final = np.array(img2)\n",
    "            \n",
    "\n",
    "#   show_image(final,\"RESULT\")\n",
    "  cv2.imshow('img', final)\n",
    "  cv2.waitKey(0)\n",
    "  cv2.imwrite('image/solved.jpg', final)          \n",
    "  cv2.waitKey(0)"
   ]
  },
  {
   "cell_type": "code",
   "execution_count": 69,
   "id": "d081f24d",
   "metadata": {},
   "outputs": [
    {
     "name": "stdout",
     "output_type": "stream",
     "text": [
      "original Sudoku\n",
      "[8, 0, 0, 0, 1, 0, 0, 0, 9]\n",
      "[0, 5, 0, 8, 0, 7, 0, 1, 0]\n",
      "[0, 0, 4, 0, 9, 0, 7, 0, 0]\n",
      "[0, 6, 0, 7, 0, 1, 0, 2, 0]\n",
      "[5, 0, 8, 0, 6, 0, 1, 0, 7]\n",
      "[0, 1, 0, 5, 0, 2, 0, 9, 0]\n",
      "[0, 0, 7, 0, 4, 0, 6, 0, 0]\n",
      "[0, 8, 0, 3, 0, 9, 0, 4, 0]\n",
      "[3, 0, 0, 0, 5, 0, 0, 0, 8]\n",
      "---------------------------------------\n",
      "Sudoku Result\n",
      "[8, 7, 2, 4, 1, 3, 5, 6, 9]\n",
      "[9, 5, 6, 8, 2, 7, 3, 1, 4]\n",
      "[1, 3, 4, 6, 9, 5, 7, 8, 2]\n",
      "[4, 6, 9, 7, 3, 1, 8, 2, 5]\n",
      "[5, 2, 8, 9, 6, 4, 1, 3, 7]\n",
      "[7, 1, 3, 5, 8, 2, 4, 9, 6]\n",
      "[2, 9, 7, 1, 4, 8, 6, 5, 3]\n",
      "[6, 8, 5, 3, 7, 9, 2, 4, 1]\n",
      "[3, 4, 1, 2, 5, 6, 9, 7, 8]\n"
     ]
    }
   ],
   "source": [
    "#input image\n",
    "img = cv2.imread('img/image3.jpg', cv2.IMREAD_GRAYSCALE)\n",
    "show_image(img,\"Original Image\")\n",
    "\n",
    "processed = pre_process_image(img)\n",
    "cv2.imshow('img', processed)\n",
    "cv2.waitKey(0)\n",
    "corners = findCorners(processed)\n",
    "display_points(processed, corners)\n",
    "\n",
    "cropped = crop_and_warp(processed, corners)\n",
    "cv2.imshow('img', cropped)\n",
    "cv2.waitKey(0)\n",
    "squares = infer_grid(cropped)\n",
    "\n",
    "old= getEveryDigits(cropped,squares)\n",
    "solved = solveGrid(copy.deepcopy(old))\n",
    "writeImg(solved,old,cropped,squares)"
   ]
  },
  {
   "cell_type": "code",
   "execution_count": null,
   "id": "467616a6",
   "metadata": {},
   "outputs": [],
   "source": []
  },
  {
   "cell_type": "code",
   "execution_count": null,
   "id": "7a1c2d76",
   "metadata": {},
   "outputs": [],
   "source": []
  },
  {
   "cell_type": "code",
   "execution_count": null,
   "id": "d52d62c7",
   "metadata": {},
   "outputs": [],
   "source": []
  }
 ],
 "metadata": {
  "kernelspec": {
   "display_name": "Python 3",
   "language": "python",
   "name": "python3"
  },
  "language_info": {
   "codemirror_mode": {
    "name": "ipython",
    "version": 3
   },
   "file_extension": ".py",
   "mimetype": "text/x-python",
   "name": "python",
   "nbconvert_exporter": "python",
   "pygments_lexer": "ipython3",
   "version": "3.8.8"
  }
 },
 "nbformat": 4,
 "nbformat_minor": 5
}
